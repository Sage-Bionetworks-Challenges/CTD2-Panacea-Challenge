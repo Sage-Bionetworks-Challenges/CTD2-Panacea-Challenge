{
 "cells": [
  {
   "cell_type": "code",
   "execution_count": 1,
   "metadata": {
    "collapsed": true
   },
   "outputs": [],
   "source": [
    "import pandas as pd\n",
    "import numpy as np"
   ]
  },
  {
   "cell_type": "code",
   "execution_count": 2,
   "metadata": {
    "collapsed": true
   },
   "outputs": [],
   "source": [
    "### ctrp moa matrix\n",
    "moa_matrix=pd.read_csv('../data/external/moa_matrix_ctrp.csv',sep=',',header=0,index_col=0)\n",
    "targets=pd.read_csv('../data/target_list.csv',sep=',',header=0,index_col=0)\n",
    "genes=list(set(moa_matrix.columns) & set(targets.index))\n",
    "moa_matrix=moa_matrix[genes]\n",
    "moa_matrix['BRD']=moa_matrix.index\n",
    "moa_matrix=pd.melt(moa_matrix,id_vars='BRD',value_vars=moa_matrix.columns[:-1])\n",
    "moa_matrix.columns=['DRUG','GENE','DIRECTION']\n",
    "fil=moa_matrix['DIRECTION']!=0\n",
    "moa_matrix=moa_matrix[fil]\n",
    "moa_matrix.to_csv('../predictions/regulons/moa_regulon_ctrp.csv',sep=',')"
   ]
  },
  {
   "cell_type": "code",
   "execution_count": 3,
   "metadata": {
    "collapsed": true
   },
   "outputs": [],
   "source": [
    "### rep moa matrix\n",
    "moa_matrix=pd.read_csv('../data/external/moa_matrix_repurposing.csv',sep=',',header=0,index_col=0)\n",
    "targets=pd.read_csv('../data/target_list.csv',sep=',',header=0,index_col=0)\n",
    "genes=list(set(moa_matrix.columns) & set(targets.index))\n",
    "moa_matrix=moa_matrix[genes]\n",
    "moa_matrix['BRD']=moa_matrix.index\n",
    "moa_matrix=pd.melt(moa_matrix,id_vars='BRD',value_vars=moa_matrix.columns[:-1])\n",
    "moa_matrix.columns=['DRUG','GENE','DIRECTION']\n",
    "fil=moa_matrix['DIRECTION']!=0\n",
    "moa_matrix=moa_matrix[fil]\n",
    "moa_matrix.to_csv('../predictions/regulons/moa_regulon_rep.csv',sep=',')"
   ]
  },
  {
   "cell_type": "code",
   "execution_count": null,
   "metadata": {
    "collapsed": true
   },
   "outputs": [],
   "source": []
  }
 ],
 "metadata": {
  "kernelspec": {
   "display_name": "Python 3",
   "language": "python",
   "name": "python3"
  },
  "language_info": {
   "codemirror_mode": {
    "name": "ipython",
    "version": 3
   },
   "file_extension": ".py",
   "mimetype": "text/x-python",
   "name": "python",
   "nbconvert_exporter": "python",
   "pygments_lexer": "ipython3",
   "version": "3.5.2"
  }
 },
 "nbformat": 4,
 "nbformat_minor": 2
}
