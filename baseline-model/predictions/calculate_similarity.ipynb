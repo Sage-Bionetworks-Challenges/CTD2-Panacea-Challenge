{
 "cells": [
  {
   "cell_type": "code",
   "execution_count": 1,
   "metadata": {
    "collapsed": true
   },
   "outputs": [],
   "source": [
    "import pandas as pd\n",
    "import numpy as np\n",
    "\n",
    "from scipy.stats import spearmanr as scor"
   ]
  },
  {
   "cell_type": "code",
   "execution_count": 80,
   "metadata": {
    "collapsed": true
   },
   "outputs": [],
   "source": [
    "ctd2=pd.read_csv('../results/consensus_conc.csv',sep=',',header=0,index_col=0)"
   ]
  },
  {
   "cell_type": "code",
   "execution_count": 81,
   "metadata": {},
   "outputs": [],
   "source": [
    "sig_rep=pd.read_csv('../data/external/rep_consensus_signatures.csv',sep=',',header=0,index_col=0)\n",
    "sig_ctrp=pd.read_csv('../data/external/ctrp_consensus_signatures.csv',sep=',',header=0,index_col=0)\n",
    "sig_shrna=pd.read_csv('../data/external/shrna_consensus_signatures.csv',sep=',',header=0,index_col=0)"
   ]
  },
  {
   "cell_type": "code",
   "execution_count": 82,
   "metadata": {},
   "outputs": [],
   "source": [
    "gene_info=pd.read_csv('../data/external/LINCS/GSE92742_Broad_LINCS_gene_info.txt',sep='\\t',header=0,index_col=0)\n",
    "fil=gene_info['pr_is_lm']==1\n",
    "gene_info=gene_info[fil]\n",
    "gene_info.index=gene_info.index.astype(str)"
   ]
  },
  {
   "cell_type": "code",
   "execution_count": 83,
   "metadata": {},
   "outputs": [],
   "source": [
    "sig_rep.columns=gene_info.loc[sig_rep.columns]['pr_gene_symbol']\n",
    "sig_ctrp.columns=gene_info.loc[sig_ctrp.columns]['pr_gene_symbol']\n",
    "sig_shrna=sig_shrna[sig_ctrp.columns]"
   ]
  },
  {
   "cell_type": "code",
   "execution_count": 84,
   "metadata": {},
   "outputs": [],
   "source": [
    "genes=list(set(ctd2.index) & set(sig_ctrp.columns))\n",
    "ctd2=ctd2.loc[genes]\n",
    "sig_rep=sig_rep[genes].T\n",
    "sig_ctrp=sig_ctrp[genes].T\n",
    "sig_shrna=sig_shrna[genes].T"
   ]
  },
  {
   "cell_type": "code",
   "execution_count": 85,
   "metadata": {},
   "outputs": [],
   "source": [
    "sig_rep_all=pd.concat([sig_rep,ctd2],1)\n",
    "sig_ctrp_all=pd.concat([sig_ctrp,ctd2],1)\n",
    "sig_shrna_all=pd.concat([sig_shrna,ctd2],1)"
   ]
  },
  {
   "cell_type": "code",
   "execution_count": 86,
   "metadata": {},
   "outputs": [],
   "source": [
    "sim_rep=pd.DataFrame(scor(sig_rep_all)[0],\n",
    "                     index=sig_rep_all.columns,columns=sig_rep_all.columns).loc[sig_rep.columns,ctd2.columns]\n",
    "sim_ctrp=pd.DataFrame(scor(sig_ctrp_all)[0],\n",
    "                      index=sig_ctrp_all.columns,columns=sig_ctrp_all.columns).loc[sig_ctrp.columns,ctd2.columns]\n",
    "sim_shrna=pd.DataFrame(scor(sig_shrna_all)[0],\n",
    "                       index=sig_shrna_all.columns,columns=sig_shrna_all.columns).loc[sig_shrna.columns,ctd2.columns]"
   ]
  },
  {
   "cell_type": "code",
   "execution_count": 91,
   "metadata": {
    "collapsed": true
   },
   "outputs": [],
   "source": [
    "sim_rep.to_csv('../predictions/similarity/sim_rep.csv',sep=',')\n",
    "sim_ctrp.to_csv('../predictions/similarity/sim_ctrp.csv',sep=',')\n",
    "\n",
    "sim_shrna.to_csv('../predictions/similarity/sim_shrna.csv',sep=',')"
   ]
  },
  {
   "cell_type": "code",
   "execution_count": 100,
   "metadata": {},
   "outputs": [],
   "source": [
    "data={'sim_rep':sim_rep,'sim_ctrp':sim_ctrp,'sim_shrna':sim_shrna}"
   ]
  },
  {
   "cell_type": "code",
   "execution_count": 101,
   "metadata": {
    "collapsed": true
   },
   "outputs": [],
   "source": [
    "for i in range(3):\n",
    "    s=[0.01,0.03,0.1][i]\n",
    "    for sim in data.keys():\n",
    "        temp=data[sim].copy()\n",
    "        temp+=np.random.normal(0,s,temp.shape)\n",
    "        temp.to_csv('../predictions/similarity/%s_%s.csv' % (sim,str(i)),sep=',')"
   ]
  },
  {
   "cell_type": "code",
   "execution_count": 10,
   "metadata": {},
   "outputs": [],
   "source": [
    "temp=pd.read_csv('../predictions/similarity/sim_rep.csv',sep=',',header=0,index_col=0)\n",
    "temp+=np.random.normal(0,0.3,temp.shape)\n",
    "temp.to_csv('../predictions/similarity/sim_rep_3.csv',sep=',')"
   ]
  },
  {
   "cell_type": "code",
   "execution_count": null,
   "metadata": {
    "collapsed": true
   },
   "outputs": [],
   "source": []
  }
 ],
 "metadata": {
  "kernelspec": {
   "display_name": "Python 3",
   "language": "python",
   "name": "python3"
  },
  "language_info": {
   "codemirror_mode": {
    "name": "ipython",
    "version": 3
   },
   "file_extension": ".py",
   "mimetype": "text/x-python",
   "name": "python",
   "nbconvert_exporter": "python",
   "pygments_lexer": "ipython3",
   "version": "3.7.6"
  }
 },
 "nbformat": 4,
 "nbformat_minor": 2
}
