{
 "cells": [
  {
   "cell_type": "code",
   "execution_count": 1,
   "metadata": {
    "collapsed": true,
    "deletable": true,
    "editable": true
   },
   "outputs": [],
   "source": [
    "import pandas as pd\n",
    "import numpy as np"
   ]
  },
  {
   "cell_type": "code",
   "execution_count": 2,
   "metadata": {
    "collapsed": true,
    "deletable": true,
    "editable": true
   },
   "outputs": [],
   "source": [
    "def set_confidence(data):\n",
    "    return (data-(data.min()))/(data.max()-data.min())"
   ]
  },
  {
   "cell_type": "code",
   "execution_count": 3,
   "metadata": {
    "collapsed": true,
    "deletable": true,
    "editable": true
   },
   "outputs": [],
   "source": [
    "template=pd.read_csv('../data/template.csv',sep=',',header=0,index_col=0)\n",
    "kinome=pd.read_csv('../data/FINAL_DREAM_kinome_Kds.csv',sep=',',header=0,index_col=0)"
   ]
  },
  {
   "cell_type": "markdown",
   "metadata": {
    "deletable": true,
    "editable": true
   },
   "source": [
    "### shRNA based predictions"
   ]
  },
  {
   "cell_type": "code",
   "execution_count": 162,
   "metadata": {
    "collapsed": false,
    "deletable": true,
    "editable": true
   },
   "outputs": [],
   "source": [
    "#no suffix, 0,1,2 for increasing added noise\n",
    "for fname in ['sim_shrna.csv','sim_shrna_0.csv','sim_shrna_1.csv','sim_shrna_2.csv']:\n",
    "    data=pd.read_csv('../predictions/similarity/'+fname,sep=',',header=0,index_col=0)\n",
    "    submission=pd.DataFrame(0,index=template.index,columns=template.columns)\n",
    "    genes=list(set(data.index) & set(template.index))\n",
    "    data=data.loc[genes,submission.columns]\n",
    "    submission.loc[genes]=data\n",
    "    submission=submission.apply(set_confidence,axis='rows')\n",
    "    submission.to_csv('../predictions/submissions/'+fname,sep=',')"
   ]
  },
  {
   "cell_type": "code",
   "execution_count": 163,
   "metadata": {
    "collapsed": false,
    "deletable": true,
    "editable": true
   },
   "outputs": [],
   "source": [
    "#k prefix: only kinome genes\n",
    "for fname in ['sim_shrna.csv','sim_shrna_0.csv','sim_shrna_1.csv','sim_shrna_2.csv']:\n",
    "    data=pd.read_csv('../predictions/similarity/'+fname,sep=',',header=0,index_col=0)\n",
    "    submission=pd.DataFrame(0,index=template.index,columns=template.columns)\n",
    "    genes=list(set(data.index) & set(template.index) & set(kinome.columns))\n",
    "    data=data.loc[genes,submission.columns]\n",
    "    submission.loc[genes]=data\n",
    "    submission=submission.apply(set_confidence,axis='rows')\n",
    "    submission.to_csv('../predictions/submissions/k_'+fname,sep=',')"
   ]
  },
  {
   "cell_type": "markdown",
   "metadata": {
    "deletable": true,
    "editable": true
   },
   "source": [
    "### Drug based predictions - CTRP"
   ]
  },
  {
   "cell_type": "code",
   "execution_count": 164,
   "metadata": {
    "collapsed": true,
    "deletable": true,
    "editable": true
   },
   "outputs": [],
   "source": [
    "#no suffix, 0,1,2 for increasing added noise\n",
    "for fname in ['sim_ctrp.csv','sim_ctrp_0.csv','sim_ctrp_1.csv','sim_ctrp_2.csv']:\n",
    "    data=pd.read_csv('../predictions/enrichments/'+fname,sep=',',header=0,index_col=0)\n",
    "    submission=pd.DataFrame(0,index=template.index,columns=template.columns)\n",
    "    genes=list(set(data.index) & set(template.index))\n",
    "    data=data.loc[genes,submission.columns]\n",
    "    submission.loc[genes]=data\n",
    "    submission=submission.apply(set_confidence,axis='rows')\n",
    "    submission.to_csv('../predictions/submissions/'+fname,sep=',')"
   ]
  },
  {
   "cell_type": "code",
   "execution_count": 165,
   "metadata": {
    "collapsed": false,
    "deletable": true,
    "editable": true
   },
   "outputs": [],
   "source": [
    "#k prefix: only kinome genes\n",
    "for fname in ['sim_ctrp.csv','sim_ctrp_0.csv','sim_ctrp_1.csv','sim_ctrp_2.csv']:\n",
    "    data=pd.read_csv('../predictions/enrichments/'+fname,sep=',',header=0,index_col=0)\n",
    "    submission=pd.DataFrame(0,index=template.index,columns=template.columns)\n",
    "    genes=list(set(data.index) & set(template.index) & set(kinome.columns))\n",
    "    data=data.loc[genes,submission.columns]\n",
    "    submission.loc[genes]=data\n",
    "    submission=submission.apply(set_confidence,axis='rows')\n",
    "    submission.to_csv('../predictions/submissions/k_'+fname,sep=',')"
   ]
  },
  {
   "cell_type": "markdown",
   "metadata": {
    "deletable": true,
    "editable": true
   },
   "source": [
    "### Drug based predictions - Repurposing"
   ]
  },
  {
   "cell_type": "code",
   "execution_count": 166,
   "metadata": {
    "collapsed": true,
    "deletable": true,
    "editable": true
   },
   "outputs": [],
   "source": [
    "#no suffix, 0,1,2 for increasing added noise\n",
    "for fname in ['sim_rep.csv','sim_rep_0.csv','sim_rep_1.csv','sim_rep_2.csv']:\n",
    "    "
   ]
  },
  {
   "cell_type": "code",
   "execution_count": 167,
   "metadata": {
    "collapsed": false,
    "deletable": true,
    "editable": true
   },
   "outputs": [],
   "source": [
    "#k prefix: only kinome genes\n",
    "for fname in ['sim_rep.csv','sim_rep_0.csv','sim_rep_1.csv','sim_rep_2.csv']:\n",
    "    data=pd.read_csv('../predictions/enrichments/'+fname,sep=',',header=0,index_col=0)\n",
    "    data=data*-1\n",
    "    submission=pd.DataFrame(0,index=template.index,columns=template.columns)\n",
    "    genes=list(set(data.index) & set(template.index) & set(kinome.columns))\n",
    "    data=data.loc[genes,submission.columns]\n",
    "    submission.loc[genes]=data\n",
    "    submission=submission.apply(set_confidence,axis='rows')\n",
    "    submission.to_csv('../predictions/submissions/k_'+fname,sep=',')"
   ]
  },
  {
   "cell_type": "code",
   "execution_count": 4,
   "metadata": {
    "collapsed": true
   },
   "outputs": [],
   "source": [
    "fname='sim_rep_3.csv'\n",
    "data=pd.read_csv('../predictions/enrichments/'+fname,sep=',',header=0,index_col=0)\n",
    "data=data*-1\n",
    "submission=pd.DataFrame(0,index=template.index,columns=template.columns)\n",
    "genes=list(set(data.index) & set(template.index))\n",
    "data=data.loc[genes,submission.columns]\n",
    "submission.loc[genes]=data\n",
    "submission=submission.apply(set_confidence,axis='rows')\n",
    "submission.to_csv('../predictions/submissions/'+fname,sep=',')"
   ]
  },
  {
   "cell_type": "code",
   "execution_count": null,
   "metadata": {
    "collapsed": true
   },
   "outputs": [],
   "source": []
  }
 ],
 "metadata": {
  "kernelspec": {
   "display_name": "Python 3",
   "language": "python",
   "name": "python3"
  },
  "language_info": {
   "codemirror_mode": {
    "name": "ipython",
    "version": 3
   },
   "file_extension": ".py",
   "mimetype": "text/x-python",
   "name": "python",
   "nbconvert_exporter": "python",
   "pygments_lexer": "ipython3",
   "version": "3.5.2"
  }
 },
 "nbformat": 4,
 "nbformat_minor": 2
}
