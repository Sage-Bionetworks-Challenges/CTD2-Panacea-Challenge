{
 "cells": [
  {
   "cell_type": "code",
   "execution_count": 14,
   "metadata": {
    "collapsed": true,
    "deletable": true,
    "editable": true
   },
   "outputs": [],
   "source": [
    "import pandas as pd\n",
    "import numpy as np\n",
    "from scipy.optimize import curve_fit\n",
    "\n",
    "from matplotlib import pyplot as plt\n",
    "import seaborn as sns\n",
    "%matplotlib inline\n",
    "sns.set_style('whitegrid')\n",
    "\n",
    "import os"
   ]
  },
  {
   "cell_type": "code",
   "execution_count": 15,
   "metadata": {
    "collapsed": true,
    "deletable": true,
    "editable": true
   },
   "outputs": [],
   "source": [
    "def normalise_data(fname):\n",
    "    data=pd.read_csv('../data/rnaseq_concealed/%s' % fname,sep=',',header=0,index_col=0)\n",
    "    meta=pd.DataFrame(index=data.columns,columns=['Drug','Time','CC','Cell'])\n",
    "    meta['Drug']=pd.Series(meta.index).apply(lambda x:x.split('_')[1]).values\n",
    "    meta['Time']=pd.Series(meta.index).apply(lambda x:x.split('_')[3]).values\n",
    "    meta['CC']=pd.Series(meta.index).apply(lambda x:x.split('_')[2]).values\n",
    "    meta['Cell']=pd.Series(meta.index).apply(lambda x:x.split('_')[4]).values\n",
    "    ctrl=meta.index[np.in1d(meta['Drug'],['dmso','untreated'])]\n",
    "    norm_data=((data.T-data[ctrl].mean(1))/data[ctrl].std(1)).T\n",
    "    meta.to_csv('../results/meta_conc/%s' % fname,sep=',')\n",
    "    norm_data.to_csv('../results/norm_gex_conc/%s' % fname,sep=',')"
   ]
  },
  {
   "cell_type": "code",
   "execution_count": 16,
   "metadata": {
    "collapsed": true,
    "deletable": true,
    "editable": true
   },
   "outputs": [],
   "source": [
    "fnames=os.listdir('../data/rnaseq_concealed/')\n",
    "try:\n",
    "    fnames.remove('.DS_Store')\n",
    "except:\n",
    "    pass"
   ]
  },
  {
   "cell_type": "code",
   "execution_count": 17,
   "metadata": {
    "collapsed": false,
    "deletable": true,
    "editable": true
   },
   "outputs": [],
   "source": [
    "for fname in fnames:\n",
    "    normalise_data(fname)"
   ]
  },
  {
   "cell_type": "code",
   "execution_count": 18,
   "metadata": {
    "collapsed": false,
    "deletable": true,
    "editable": true
   },
   "outputs": [],
   "source": [
    "meta=pd.read_csv('../results/meta_conc/ASPC1-RNAseq-Perturbations.csv',sep=',',header=0,index_col=0)\n",
    "data=pd.read_csv('../results/norm_gex_conc/ASPC1-RNAseq-Perturbations.csv',sep=',',header=0,index_col=0)"
   ]
  },
  {
   "cell_type": "code",
   "execution_count": 19,
   "metadata": {
    "collapsed": false,
    "deletable": true,
    "editable": true
   },
   "outputs": [],
   "source": [
    "drugs=list(set(meta['Drug'])-set(['dmso','untreated']))\n",
    "genes=list(data.index)"
   ]
  },
  {
   "cell_type": "code",
   "execution_count": 20,
   "metadata": {
    "collapsed": true,
    "deletable": true,
    "editable": true
   },
   "outputs": [],
   "source": [
    "consensus=pd.DataFrame(index=genes,columns=drugs)"
   ]
  },
  {
   "cell_type": "code",
   "execution_count": 21,
   "metadata": {
    "collapsed": false,
    "deletable": true,
    "editable": true
   },
   "outputs": [],
   "source": [
    "norm_data={}\n",
    "meta_data={}\n",
    "for fname in fnames:\n",
    "    norm_data[fname]=pd.read_csv('../results/norm_gex_conc/%s' % fname,sep=',',header=0,index_col=0)\n",
    "    meta_data[fname]=pd.read_csv('../results/meta_conc/%s' % fname,sep=',',header=0,index_col=0)"
   ]
  },
  {
   "cell_type": "code",
   "execution_count": 22,
   "metadata": {
    "collapsed": false,
    "deletable": true,
    "editable": true
   },
   "outputs": [],
   "source": [
    "for drug in drugs:\n",
    "    drug_data=pd.DataFrame(index=genes)\n",
    "    for fname in fnames:\n",
    "        indexes=meta_data[fname].index[meta_data[fname]['Drug']==drug]\n",
    "        drug_data=pd.concat([drug_data,norm_data[fname][indexes]],1)\n",
    "    drug_data[drug_data>10]=10\n",
    "    drug_data[drug_data<-10]=-10\n",
    "    consensus[drug]=drug_data.mean(1)"
   ]
  },
  {
   "cell_type": "code",
   "execution_count": 23,
   "metadata": {
    "collapsed": false,
    "deletable": true,
    "editable": true
   },
   "outputs": [],
   "source": [
    "consensus.columns='cmpd_'+consensus.columns"
   ]
  },
  {
   "cell_type": "code",
   "execution_count": 24,
   "metadata": {
    "collapsed": false,
    "deletable": true,
    "editable": true
   },
   "outputs": [],
   "source": [
    "consensus.to_csv('../results/consensus_conc.csv',sep=',')"
   ]
  }
 ],
 "metadata": {
  "kernelspec": {
   "display_name": "Python 3",
   "language": "python",
   "name": "python3"
  },
  "language_info": {
   "codemirror_mode": {
    "name": "ipython",
    "version": 3
   },
   "file_extension": ".py",
   "mimetype": "text/x-python",
   "name": "python",
   "nbconvert_exporter": "python",
   "pygments_lexer": "ipython3",
   "version": "3.5.2"
  }
 },
 "nbformat": 4,
 "nbformat_minor": 2
}
